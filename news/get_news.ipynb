{
 "cells": [
  {
   "cell_type": "code",
   "execution_count": 2,
   "id": "70989005-07ea-4d1a-81d8-f8c0be21482e",
   "metadata": {},
   "outputs": [],
   "source": [
    "import os\n",
    "import json\n",
    "from datetime import datetime, timedelta"
   ]
  },
  {
   "cell_type": "code",
   "execution_count": null,
   "id": "befd3bc0-0a1b-45b0-a383-6151a27533ec",
   "metadata": {},
   "outputs": [],
   "source": []
  },
  {
   "cell_type": "code",
   "execution_count": 26,
   "id": "2fe4a062-d07a-4b77-b1e0-0a86a27e8b0f",
   "metadata": {},
   "outputs": [
    {
     "name": "stdout",
     "output_type": "stream",
     "text": [
      "Total articles loaded: 13327\n"
     ]
    }
   ],
   "source": [
    "base_dir = '/scratch/hd2584/chronology-code/news/newspaper3k'\n",
    "\n",
    "# Start and end dates\n",
    "start_date = datetime.strptime('2025-03-01', '%Y-%m-%d')\n",
    "end_date = datetime.strptime('2025-03-31', '%Y-%m-%d')\n",
    "\n",
    "# Container for all articles\n",
    "all_articles = []\n",
    "\n",
    "# Iterate through the date range\n",
    "current_date = start_date\n",
    "while current_date <= end_date:\n",
    "    filename = f\"articles_{current_date.strftime('%Y_%m_%d')}.json\"\n",
    "    filepath = os.path.join(base_dir, filename)\n",
    "\n",
    "    if os.path.exists(filepath):\n",
    "        with open(filepath, 'r', encoding='utf-8') as f:\n",
    "            try:\n",
    "                data = json.load(f)\n",
    "                if isinstance(data, list):\n",
    "                    all_articles.extend(data)\n",
    "                else:\n",
    "                    all_articles.append(data)\n",
    "            except json.JSONDecodeError:\n",
    "                print(f\"Warning: Could not decode JSON from {filepath}\")\n",
    "    else:\n",
    "        print(f\"File not found: {filepath}\")\n",
    "\n",
    "    current_date += timedelta(days=1)\n",
    "\n",
    "# Now `all_articles` contains the concatenated data\n",
    "print(f\"Total articles loaded: {len(all_articles)}\")"
   ]
  },
  {
   "cell_type": "code",
   "execution_count": 27,
   "id": "1c9072c2-ff87-41e1-b318-6896bc2eb697",
   "metadata": {},
   "outputs": [],
   "source": [
    "df = pd.DataFrame(all_articles)"
   ]
  },
  {
   "cell_type": "code",
   "execution_count": 28,
   "id": "8ee045e3-487f-4090-9239-f3c6f563d034",
   "metadata": {},
   "outputs": [],
   "source": [
    "df.to_csv('news_2025_03.csv', index=False)"
   ]
  },
  {
   "cell_type": "code",
   "execution_count": null,
   "id": "b2b96899-6cd4-4063-b599-4cef9d1ddf6b",
   "metadata": {},
   "outputs": [],
   "source": []
  },
  {
   "cell_type": "code",
   "execution_count": 35,
   "id": "1e70f25b-2e4e-4fa6-a6a8-e0c139532730",
   "metadata": {},
   "outputs": [
    {
     "data": {
      "text/plain": [
       "'03/01/2025'"
      ]
     },
     "execution_count": 35,
     "metadata": {},
     "output_type": "execute_result"
    }
   ],
   "source": [
    "pd.read_csv(\"news_2025_03.csv\")['date'][0]"
   ]
  },
  {
   "cell_type": "code",
   "execution_count": 33,
   "id": "a5d2192e-13e8-406e-a944-c6a1a199b937",
   "metadata": {},
   "outputs": [
    {
     "ename": "TypeError",
     "evalue": "list indices must be integers or slices, not str",
     "output_type": "error",
     "traceback": [
      "\u001b[0;31m---------------------------------------------------------------------------\u001b[0m",
      "\u001b[0;31mTypeError\u001b[0m                                 Traceback (most recent call last)",
      "Cell \u001b[0;32mIn[33], line 1\u001b[0m\n\u001b[0;32m----> 1\u001b[0m data[data[\u001b[38;5;124m'\u001b[39m\u001b[38;5;124mdate\u001b[39m\u001b[38;5;124m'\u001b[39m] \u001b[38;5;241m==\u001b[39m \u001b[38;5;124m'\u001b[39m\u001b[38;5;124m2025-03-01\u001b[39m\u001b[38;5;124m'\u001b[39m]\n",
      "\u001b[0;31mTypeError\u001b[0m: list indices must be integers or slices, not str"
     ]
    }
   ],
   "source": [
    "data[data['date'] == '2025-03-01']"
   ]
  }
 ],
 "metadata": {
  "kernelspec": {
   "display_name": "my_env",
   "language": "python",
   "name": "my_env"
  },
  "language_info": {
   "codemirror_mode": {
    "name": "ipython",
    "version": 3
   },
   "file_extension": ".py",
   "mimetype": "text/x-python",
   "name": "python",
   "nbconvert_exporter": "python",
   "pygments_lexer": "ipython3",
   "version": "3.11.5"
  }
 },
 "nbformat": 4,
 "nbformat_minor": 5
}
